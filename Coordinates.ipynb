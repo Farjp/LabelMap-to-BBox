{
 "cells": [
  {
   "cell_type": "code",
   "execution_count": 1,
   "metadata": {},
   "outputs": [
    {
     "name": "stdout",
     "output_type": "stream",
     "text": [
      "Model Input:\n",
      "LUNG1-001\t80.566406\t-196.351562\t-456.500000\t81.872396\n"
     ]
    }
   ],
   "source": [
    "import SimpleITK as sitk\n",
    "import numpy as np\n",
    "\n",
    "# File paths (anonymized)\n",
    "ct_path = \"/path/to/anonymized/CT.nrrd\"\n",
    "mask_path = \"/path/to/anonymized/segmentations/GTV-1.nrrd\"\n",
    "study_id = \"LUNG1-001\"  # Example ID, adapt as needed\n",
    "\n",
    "# Load the CT and mask\n",
    "ct_image = sitk.ReadImage(ct_path)\n",
    "mask_image = sitk.ReadImage(mask_path)\n",
    "\n",
    "# Extract metadata\n",
    "spacing = ct_image.GetSpacing()  # [x_spacing, y_spacing, z_spacing]\n",
    "origin = ct_image.GetOrigin()    # [x_origin, y_origin, z_origin]\n",
    "\n",
    "# Compute bounding box\n",
    "label_filter = sitk.LabelShapeStatisticsImageFilter()\n",
    "label_filter.Execute(mask_image)\n",
    "\n",
    "bounding_box = label_filter.GetBoundingBox(1)  # [x_min, y_min, z_min, x_size, y_size, z_size]\n",
    "\n",
    "# Extract voxel-level bounding box coordinates\n",
    "x_min, y_min, z_min = bounding_box[0], bounding_box[1], bounding_box[2]\n",
    "x_size, y_size, z_size = bounding_box[3], bounding_box[4], bounding_box[5]\n",
    "x_max, y_max, z_max = x_min + x_size - 1, y_min + y_size - 1, z_min + z_size - 1\n",
    "\n",
    "# Compute center coordinates in physical space\n",
    "coordX = (x_min + x_max) / 2 * spacing[0] + origin[0]\n",
    "coordY = (y_min + y_max) / 2 * spacing[1] + origin[1]\n",
    "coordZ = (z_min + z_max) / 2 * spacing[2] + origin[2]\n",
    "\n",
    "# Compute diameter (mean physical size along dimensions)\n",
    "diameter_mm = np.mean([\n",
    "    (x_max - x_min + 1) * spacing[0],  # Physical size in X\n",
    "    (y_max - y_min + 1) * spacing[1],  # Physical size in Y\n",
    "    (z_max - z_min + 1) * spacing[2]   # Physical size in Z\n",
    "])\n",
    "\n",
    "# Format the output for the model\n",
    "output = f\"{study_id}\\t{coordX:.6f}\\t{coordY:.6f}\\t{coordZ:.6f}\\t{diameter_mm:.6f}\"\n",
    "print(\"Model Input:\\n\", output)"
   ]
  }
 ],
 "metadata": {
  "kernelspec": {
   "display_name": "Python 3",
   "language": "python",
   "name": "python3"
  },
  "language_info": {
   "codemirror_mode": {
    "name": "ipython",
    "version": 3
   },
   "file_extension": ".py",
   "mimetype": "text/x-python",
   "name": "python",
   "nbconvert_exporter": "python",
   "pygments_lexer": "ipython3",
   "version": "3.9.7"
  }
 },
 "nbformat": 4,
 "nbformat_minor": 4
}
