{
 "cells": [
  {
   "cell_type": "code",
   "execution_count": 1,
   "metadata": {},
   "outputs": [
    {
     "name": "stdout",
     "output_type": "stream",
     "text": [
      "study_folder_id: LUNG1-001\n",
      "coordX: 80.566406\n",
      "coordY: -196.351562\n",
      "coordZ: -456.500000\n",
      "diameter_mm: 80.221354\n"
     ]
    }
   ],
   "source": [
    "import SimpleITK as sitk\n",
    "import numpy as np\n",
    "\n",
    "# File paths\n",
    "study_folder_id = \"LUNG1-001\"\n",
    "image_file = \"CT.nrrd\"\n",
    "mask_file = \"mask.nrrd\"\n",
    "\n",
    "# Load the image and mask\n",
    "image = sitk.ReadImage(image_file)\n",
    "mask = sitk.ReadImage(mask_file)\n",
    "\n",
    "# Convert to numpy arrays\n",
    "image_array = sitk.GetArrayFromImage(image)\n",
    "mask_array = sitk.GetArrayFromImage(mask)\n",
    "\n",
    "# Get voxel spacing and origin\n",
    "spacing = image.GetSpacing()  # Physical spacing in (x, y, z)\n",
    "origin = image.GetOrigin()  # Physical origin in (x, y, z)\n",
    "\n",
    "# Compute the bounding box for the mask\n",
    "bb_filter = sitk.LabelStatisticsImageFilter()\n",
    "bb_filter.Execute(image, mask)\n",
    "current_bb = bb_filter.GetBoundingBox(1)  # Get bounding box for label 1\n",
    "\n",
    "# Extract bounding box coordinates\n",
    "x_min, x_max = current_bb[0], current_bb[1]\n",
    "y_min, y_max = current_bb[2], current_bb[3]\n",
    "z_min, z_max = current_bb[4], current_bb[5]\n",
    "\n",
    "# Compute the center of the bounding box in voxel space\n",
    "x_center_voxel = (x_min + x_max) / 2\n",
    "y_center_voxel = (y_min + y_max) / 2\n",
    "z_center_voxel = (z_min + z_max) / 2\n",
    "\n",
    "# Convert the center coordinates to physical space\n",
    "x_center_phys = origin[0] + x_center_voxel * spacing[0]\n",
    "y_center_phys = origin[1] + y_center_voxel * spacing[1]\n",
    "z_center_phys = origin[2] + z_center_voxel * spacing[2]\n",
    "\n",
    "# Compute the diameter in physical space\n",
    "x_size_phys = (x_max - x_min) * spacing[0]\n",
    "y_size_phys = (y_max - y_min) * spacing[1]\n",
    "z_size_phys = (z_max - z_min) * spacing[2]\n",
    "diameter_phys = (x_size_phys + y_size_phys + z_size_phys) / 3  # Approximation as average\n",
    "\n",
    "# Print the results\n",
    "print(f\"study_folder_id: {study_folder_id}\")\n",
    "print(f\"coordX: {x_center_phys:.6f}\")\n",
    "print(f\"coordY: {y_center_phys:.6f}\")\n",
    "print(f\"coordZ: {z_center_phys:.6f}\")\n",
    "print(f\"diameter_mm: {diameter_phys:.6f}\")\n"
   ]
  }
 ],
 "metadata": {
  "kernelspec": {
   "display_name": "YOLO",
   "language": "python",
   "name": "python3"
  },
  "language_info": {
   "codemirror_mode": {
    "name": "ipython",
    "version": 3
   },
   "file_extension": ".py",
   "mimetype": "text/x-python",
   "name": "python",
   "nbconvert_exporter": "python",
   "pygments_lexer": "ipython3",
   "version": "3.12.3"
  }
 },
 "nbformat": 4,
 "nbformat_minor": 2
}
